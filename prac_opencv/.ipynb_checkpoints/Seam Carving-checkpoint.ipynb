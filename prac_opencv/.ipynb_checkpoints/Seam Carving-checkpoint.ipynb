{
 "cells": [
  {
   "cell_type": "markdown",
   "metadata": {},
   "source": [
    "# Seam carving\n",
    "- 내용인지 기반 영상 크기 조정\n",
    "- 영상에서 덜 중요한 경로(seam)을 찾아서 이를 제거(carving)\n",
    "- insteresting region과 uninteresting region을 나누고 비관심영역을 제거하는 방식"
   ]
  },
  {
   "cell_type": "markdown",
   "metadata": {},
   "source": [
    "### Interesting region을 어떻게 정의할까\n",
    "- 화소의 미분값으로 level of activity를 판단\n",
    "- 만약 어떤 활동이 있다면 미분값이 높아진다.(ex. sobel)\n"
   ]
  },
  {
   "cell_type": "code",
   "execution_count": 1,
   "metadata": {},
   "outputs": [],
   "source": [
    "import cv2\n",
    "import numpy as np\n",
    "import matplotlib.pyplot as plt"
   ]
  },
  {
   "cell_type": "code",
   "execution_count": 5,
   "metadata": {},
   "outputs": [],
   "source": [
    "# draw vertical seam on top of image\n",
    "def overlay_vertical_seam(img,seam):\n",
    "    img_seam_overlay = np.copy(img)\n",
    "    \n",
    "    x_coords,y_coords = np.transpose([(i,int(j)) for i,j in enumerate(seam)]) # point 추출\n",
    "    \n",
    "    img_seam_overlay[x_coords,y_coords] = (0,255,0)\n",
    "    return img_seam_overlay"
   ]
  },
  {
   "cell_type": "code",
   "execution_count": 3,
   "metadata": {},
   "outputs": [],
   "source": [
    "def compute_energy_matrix(img):\n",
    "    gray = cv2.cvtColor(img,cv2.COLOR_BGR2GRAY)\n",
    "    sobel_x = cv2.Sobel(gray,cv2.CV_64F,1,0,ksize = 3) # x미분값 계산\n",
    "    sobel_y = cv2.Sobel(gray,cv2.CV_64F,0,1,ksize = 3)\n",
    "    \n",
    "    abs_sobel_x = cv2.convertScaleAbs(sobel_x)\n",
    "    abs_sobel_y = cv2.convertScaleAbs(sobel_y)\n",
    "    \n",
    "    return cv2.addWeighted(abs_sobel_x,0.5,abs_sobel_y,0.5,0)"
   ]
  },
  {
   "cell_type": "code",
   "execution_count": 7,
   "metadata": {},
   "outputs": [],
   "source": [
    "def find_vertical_seam(img,energy):\n",
    "    rows,cols = img.shape[:2]\n",
    "    seam = np.zeros(img.shape[0])\n",
    "    dist_to = np.zeros(img.shape[:2])+float('inf')\n",
    "    dist_to[0,:] = np.zeros(img.shape[1])\n",
    "    edge_to = np.zeros(img.shape[:2])\n",
    "       \n",
    "    for row in range(rows-1): \n",
    "        for col in range(cols): \n",
    "            if col != 0 and dist_to[row+1, col-1] > dist_to[row, col] + energy[row+1, col-1]: \n",
    "                dist_to[row+1, col-1] = dist_to[row, col] + energy[row+1, col-1] \n",
    "                edge_to[row+1, col-1] = 1 \n",
    " \n",
    "            if dist_to[row+1, col] > dist_to[row, col] + energy[row+1, col]: \n",
    "                dist_to[row+1, col] = dist_to[row, col] + energy[row+1, col] \n",
    "                edge_to[row+1, col] = 0 \n",
    " \n",
    "            if col != cols-1: \n",
    "                if dist_to[row+1, col+1] > dist_to[row, col] + energy[row+1, col+1]: \n",
    "                    dist_to[row+1, col+1] = dist_to[row, col] + energy[row+1, col+1] \n",
    "                    edge_to[row+1, col+1] = -1\n",
    "    seam[rows-1] = np.argmin(dist_to[rows-1, :]) \n",
    "    for i in (x for x in reversed(range(rows)) if x > 0): \n",
    "        seam[i-1] = seam[i] + edge_to[i, int(seam[i])] \n",
    " \n",
    "    return seam "
   ]
  },
  {
   "cell_type": "code",
   "execution_count": null,
   "metadata": {},
   "outputs": [],
   "source": []
  }
 ],
 "metadata": {
  "kernelspec": {
   "display_name": "Python 3",
   "language": "python",
   "name": "python3"
  },
  "language_info": {
   "codemirror_mode": {
    "name": "ipython",
    "version": 3
   },
   "file_extension": ".py",
   "mimetype": "text/x-python",
   "name": "python",
   "nbconvert_exporter": "python",
   "pygments_lexer": "ipython3",
   "version": "3.7.1"
  }
 },
 "nbformat": 4,
 "nbformat_minor": 4
}
